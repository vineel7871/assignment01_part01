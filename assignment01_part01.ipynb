{
 "nbformat": 4,
 "nbformat_minor": 2,
 "metadata": {
  "language_info": {
   "name": "python",
   "codemirror_mode": {
    "name": "ipython",
    "version": 3
   },
   "version": "3.7.5"
  },
  "orig_nbformat": 2,
  "file_extension": ".py",
  "mimetype": "text/x-python",
  "name": "python",
  "npconvert_exporter": "python",
  "pygments_lexer": "ipython3",
  "version": 3
 },
 "cells": [
  {
   "cell_type": "code",
   "execution_count": 73,
   "metadata": {},
   "outputs": [],
   "source": [
    "# importing required modules\n",
    "import re\n",
    "import xlrd\n",
    "import pandas as pd\n",
    "import mysql.connector\n",
    "from mysql.connector import Error\n",
    "\n",
    "# reading data from excel file to pandas dataframe\n",
    "book = pd.read_excel(\"beginner_assignment01.xlsx\", sheet_name=None)\n",
    "\n",
    "# renaming column names to be compatible with mysql database\n",
    "for sheet_name in book:\n",
    "    sheet = book[sheet_name]\n",
    "    identifier = re.compile(r\"[\\d\\w_\\s]\",re.I)\n",
    "\n",
    "    col_names = sheet.columns\n",
    "    dict_names = {}\n",
    "    for i in range(len(col_names)):\n",
    "        column_name = col_names[i]\n",
    "        column_name = \"\".join(filter(lambda x:identifier.match(x),column_name))\n",
    "        column_name = \"_\".join(column_name.split())\n",
    "        dict_names[col_names[i]] = column_name\n",
    "    sheet.columns = dict_names.values()"
   ]
  },
  {
   "cell_type": "code",
   "execution_count": 74,
   "metadata": {},
   "outputs": [],
   "source": [
    "\n",
    "def connect():\n",
    "    \"\"\" Function to Connect to MySQL database \"\"\"\n",
    "    conn = None\n",
    "    try:\n",
    "        conn = mysql.connector.connect(host='localhost',\n",
    "                                       database='assignment01_part01',\n",
    "                                       user='root',\n",
    "                                       password='Kvineel@7871')\n",
    "        if conn.is_connected():\n",
    "            print('Connected to MySQL database')\n",
    " \n",
    "    except Error as e:\n",
    "        print(e)\n",
    " \n",
    "    finally:\n",
    "        if conn is not None and conn.is_connected():\n",
    "            return conn\n"
   ]
  },
  {
   "cell_type": "code",
   "execution_count": 75,
   "metadata": {},
   "outputs": [],
   "source": [
    "\n",
    "def create_database_schema():\n",
    "    conn = connect()\n",
    "    cur = conn.cursor()\n",
    "\n",
    "    for sheet_name in book:\n",
    "        sheet = book[sheet_name]\n",
    "\n",
    "        # Drop table if exists\n",
    "        cur.execute(\"DROP TABLE IF EXISTS %s;\"%(sheet_name))\n",
    "\n",
    "        # creating table\n",
    "        cur.execute(\"CREATE TABLE %s (%s_id INT PRIMARY KEY AUTO_INCREMENT);\"%(sheet_name, sheet_name))\n",
    "        # cur.execute(\"CREATE TABLE %s;\"%(sheet_name))\n",
    "\n",
    "        # adding columns to table\n",
    "        col_names = sheet.columns\n",
    "        for i in range(len(col_names)):\n",
    "            column_name = col_names[i]\n",
    "            if sheet[col_names[i]].dtype == 'object':\n",
    "                cur.execute(\"ALTER TABLE %s ADD %s varchar(255);\"%(sheet_name, column_name))\n",
    "            elif sheet[col_names[i]].dtype == 'int64':\n",
    "                if not -2147483648 <= sheet[col_names[i]].max() <= 2147483647:\n",
    "                    cur.execute(\"ALTER TABLE %s ADD %s BIGINT;\"%(sheet_name, column_name))\n",
    "                else:\n",
    "                    cur.execute(\"ALTER TABLE %s ADD %s INT;\"%(sheet_name, column_name))\n",
    "            elif sheet[col_names[i]].dtype == 'float64':\n",
    "                cur.execute(\"ALTER TABLE %s ADD %s DECIMAL(16,4);\"%(sheet_name, column_name))\n",
    "    conn.commit()\n",
    "    conn.close()\n",
    "    print(\"Created Database Schema\")\n"
   ]
  },
  {
   "cell_type": "code",
   "execution_count": 76,
   "metadata": {},
   "outputs": [],
   "source": [
    "\n",
    "def insert_data():\n",
    "    conn = connect()\n",
    "    cur = conn.cursor()\n",
    "\n",
    "    print(\"inserting data\")\n",
    "    for sheet_name in book:\n",
    "        sheet = book[sheet_name]\n",
    "\n",
    "        col_names = list(sheet.columns)\n",
    "        cols_name = \", \".join(col_names)\n",
    "\n",
    "        rows, cols = sheet.shape\n",
    "        for i in range(rows):\n",
    "            vals = []\n",
    "            for j in range(cols):\n",
    "                vals.append(str(sheet.iat[i, j]))\n",
    "            query = \"INSERT INTO %s (%s) VALUES (\"%(sheet_name, cols_name)\n",
    "            query += \"%s, \"*(cols-1)\n",
    "            query += \"%s \"\n",
    "            query += \");\"\n",
    "            cur.execute(query, vals)\n",
    "    \n",
    "    print(\"commiting changes\")\n",
    "    conn.commit()\n",
    "    conn.close()\n"
   ]
  },
  {
   "cell_type": "code",
   "execution_count": 77,
   "metadata": {},
   "outputs": [
    {
     "name": "stdout",
     "output_type": "stream",
     "text": "Connected to MySQL database\nCreated Database Schema\nConnected to MySQL database\ninserting data\ncommiting changes\n"
    }
   ],
   "source": [
    "if __name__ ==\"__main__\":\n",
    "    create_database_schema()\n",
    "    insert_data()"
   ]
  },
  {
   "cell_type": "code",
   "execution_count": null,
   "metadata": {},
   "outputs": [],
   "source": []
  }
 ]
}